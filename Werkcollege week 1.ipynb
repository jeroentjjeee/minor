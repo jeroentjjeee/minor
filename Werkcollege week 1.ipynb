{
 "cells": [
  {
   "cell_type": "markdown",
   "metadata": {},
   "source": [
    "# 1\n",
    "Er zijn meerdere 1-dimensionale structuren in Python. De list, de numpy array en pandas Series zijn degene die je het meest zal gebruiken (numpy en pandas zijn packages).\n",
    "\n",
    "Meer informatie over lists: https://datalab01.ict.hva.nl/w/6aKwhqRQvwGE6VfjtLq4uJ\n",
    "\n",
    "**A. Maak een list met de getallen 6 tot en met 10** (2 min) "
   ]
  },
  {
   "cell_type": "code",
   "execution_count": null,
   "metadata": {},
   "outputs": [],
   "source": []
  },
  {
   "cell_type": "markdown",
   "metadata": {},
   "source": [
    "**B. Maak de list nog eens, maar deze keer geef het de naam list1** (1 min)"
   ]
  },
  {
   "cell_type": "code",
   "execution_count": null,
   "metadata": {},
   "outputs": [],
   "source": []
  },
  {
   "cell_type": "markdown",
   "metadata": {},
   "source": [
    "**C. Importeer de packages numpy en pandas. Zet nu list1 om in een numpy array en pandas series. Noem deze 'array1' en 'series1'.** (5 min) <br>\n",
    "Introductie in numpy: https://datalab01.ict.hva.nl/w/r7SYc4Ag4X4ReMBbfb9RYv <br>\n",
    "Introductie in pandas: https://datalab01.ict.hva.nl/w/d9zd1VbMKK4oJPP1RzM3Sd <br>\n",
    "Pandas Cheat sheet: https://www.datacamp.com/cheat-sheet/pandas-cheat-sheet-for-data-science-in-python"
   ]
  },
  {
   "cell_type": "code",
   "execution_count": null,
   "metadata": {},
   "outputs": [],
   "source": [
    "# Hier de imports"
   ]
  },
  {
   "cell_type": "code",
   "execution_count": null,
   "metadata": {},
   "outputs": [],
   "source": [
    "# Numpy Array"
   ]
  },
  {
   "cell_type": "code",
   "execution_count": null,
   "metadata": {},
   "outputs": [],
   "source": [
    "# Pandas Series"
   ]
  },
  {
   "cell_type": "markdown",
   "metadata": {},
   "source": [
    "### **2. Tel 5 op bij alle getallen in list1, doe hetzelfde voor de array en series**\n",
    "\n",
    "Voor de python list hebben we een list comprehension nodig. De numpy array en pandas Series kunnen het in één keer. <br>\n",
    "(8 min)"
   ]
  },
  {
   "cell_type": "code",
   "execution_count": null,
   "metadata": {},
   "outputs": [],
   "source": [
    "# Python List"
   ]
  },
  {
   "cell_type": "code",
   "execution_count": null,
   "metadata": {},
   "outputs": [],
   "source": [
    "# Numpy Array"
   ]
  },
  {
   "cell_type": "code",
   "execution_count": null,
   "metadata": {},
   "outputs": [],
   "source": [
    "# Pandas Series"
   ]
  },
  {
   "cell_type": "markdown",
   "metadata": {},
   "source": [
    "## 3\n",
    "**A. Maak een tweede list met de letters A,B,C,D,E en noem deze list2** (2 min)"
   ]
  },
  {
   "cell_type": "code",
   "execution_count": null,
   "metadata": {},
   "outputs": [],
   "source": [
    "# Gewoon handmatig"
   ]
  },
  {
   "cell_type": "markdown",
   "metadata": {},
   "source": [
    "**B. Maak een pandas dataframe met de naam df die bestaat uit twee kolommen: list1 en list2** <br> (4 min). Voor achtergrond zie introductie in pandas (1C)"
   ]
  },
  {
   "cell_type": "code",
   "execution_count": null,
   "metadata": {},
   "outputs": [],
   "source": []
  },
  {
   "cell_type": "markdown",
   "metadata": {},
   "source": [
    "**C. Voeg een derde kolom toe aan de dataframe met 5 x de waarde TRUE** (3 min) <br>\n",
    "Toevoegen kolommen: https://datalab01.ict.hva.nl/w/9x2t35BNxgCCbTu6E18BBH"
   ]
  },
  {
   "cell_type": "code",
   "execution_count": null,
   "metadata": {},
   "outputs": [],
   "source": []
  },
  {
   "cell_type": "markdown",
   "metadata": {},
   "source": [
    "## 4 \n",
    "**Check of je working directory overeenkomt met de map waarin je de werkcolleges wil opslaan** (2 min)\n",
    "\n"
   ]
  },
  {
   "cell_type": "code",
   "execution_count": null,
   "metadata": {},
   "outputs": [],
   "source": []
  },
  {
   "cell_type": "markdown",
   "metadata": {},
   "source": [
    "## 5\n",
    "**Gebruik de functie 'read_csv()' uit het pandas package om de dataset in te laden en geef het de\n",
    "naam *HairEyeColour*** (3 min)"
   ]
  },
  {
   "cell_type": "code",
   "execution_count": 4,
   "metadata": {},
   "outputs": [],
   "source": [
    "# Let op: bestandnaam zelf is HairEyeColor (zonder 'u')\n",
    "import pandas as pd\n",
    "import numpy as np\n",
    "HairEyeColour = pd.read_csv(\"HairEyeColor.csv\")"
   ]
  },
  {
   "cell_type": "markdown",
   "metadata": {},
   "source": [
    "## 6 \n",
    "**Wat voor type variabelen zitten er in de dataset?** (3 min) <br> Tip: gebruik de method 'info()'\n",
    "\n",
    "object betekent 'tekst'\n",
    "\n",
    "Voor achtergrond over data exploratie zie: https://datalab01.ict.hva.nl/w/h9HaRfrvXcSVuF6Yi8cfaG\n"
   ]
  },
  {
   "cell_type": "code",
   "execution_count": 6,
   "metadata": {},
   "outputs": [
    {
     "name": "stdout",
     "output_type": "stream",
     "text": [
      "<class 'pandas.core.frame.DataFrame'>\n",
      "RangeIndex: 592 entries, 0 to 591\n",
      "Data columns (total 3 columns):\n",
      " #   Column  Non-Null Count  Dtype \n",
      "---  ------  --------------  ----- \n",
      " 0   Hair    592 non-null    object\n",
      " 1   Eye     592 non-null    object\n",
      " 2   Sex     592 non-null    object\n",
      "dtypes: object(3)\n",
      "memory usage: 14.0+ KB\n"
     ]
    },
    {
     "data": {
      "text/html": [
       "<div>\n",
       "<style scoped>\n",
       "    .dataframe tbody tr th:only-of-type {\n",
       "        vertical-align: middle;\n",
       "    }\n",
       "\n",
       "    .dataframe tbody tr th {\n",
       "        vertical-align: top;\n",
       "    }\n",
       "\n",
       "    .dataframe thead th {\n",
       "        text-align: right;\n",
       "    }\n",
       "</style>\n",
       "<table border=\"1\" class=\"dataframe\">\n",
       "  <thead>\n",
       "    <tr style=\"text-align: right;\">\n",
       "      <th></th>\n",
       "      <th>Hair</th>\n",
       "      <th>Eye</th>\n",
       "      <th>Sex</th>\n",
       "    </tr>\n",
       "  </thead>\n",
       "  <tbody>\n",
       "    <tr>\n",
       "      <th>0</th>\n",
       "      <td>Blond</td>\n",
       "      <td>Blue</td>\n",
       "      <td>Female</td>\n",
       "    </tr>\n",
       "    <tr>\n",
       "      <th>1</th>\n",
       "      <td>Brown</td>\n",
       "      <td>Brown</td>\n",
       "      <td>Male</td>\n",
       "    </tr>\n",
       "    <tr>\n",
       "      <th>2</th>\n",
       "      <td>Brown</td>\n",
       "      <td>Blue</td>\n",
       "      <td>Male</td>\n",
       "    </tr>\n",
       "    <tr>\n",
       "      <th>3</th>\n",
       "      <td>Brown</td>\n",
       "      <td>Green</td>\n",
       "      <td>Male</td>\n",
       "    </tr>\n",
       "    <tr>\n",
       "      <th>4</th>\n",
       "      <td>Brown</td>\n",
       "      <td>Hazel</td>\n",
       "      <td>Male</td>\n",
       "    </tr>\n",
       "  </tbody>\n",
       "</table>\n",
       "</div>"
      ],
      "text/plain": [
       "    Hair    Eye     Sex\n",
       "0  Blond   Blue  Female\n",
       "1  Brown  Brown    Male\n",
       "2  Brown   Blue    Male\n",
       "3  Brown  Green    Male\n",
       "4  Brown  Hazel    Male"
      ]
     },
     "execution_count": 6,
     "metadata": {},
     "output_type": "execute_result"
    }
   ],
   "source": [
    "HairEyeColour.info()\n",
    "HairEyeColour.head()"
   ]
  },
  {
   "cell_type": "markdown",
   "metadata": {},
   "source": [
    "## 7 \n",
    "**Hoeveel mannen en hoeveel vrouwen zitten er in de dataset?** (5 min) <br> Tip: gebruik method 'value_counts()' of functie 'crosstab()' uit pandas"
   ]
  },
  {
   "cell_type": "code",
   "execution_count": 8,
   "metadata": {},
   "outputs": [
    {
     "name": "stdout",
     "output_type": "stream",
     "text": [
      "Sex\n",
      "Female    0.528716\n",
      "Male      0.471284\n",
      "Name: proportion, dtype: float64\n"
     ]
    }
   ],
   "source": [
    "print(HairEyeColour[\"Sex\"].value_counts(\"Female\"))"
   ]
  },
  {
   "cell_type": "markdown",
   "metadata": {},
   "source": [
    "## 8 \n",
    "**Hoe veel roodharige personen met groene ogen zitten er in de dataset?** (5 min)"
   ]
  },
  {
   "cell_type": "code",
   "execution_count": 10,
   "metadata": {},
   "outputs": [
    {
     "name": "stdout",
     "output_type": "stream",
     "text": [
      "Hair\n",
      "Brown    286\n",
      "Blond    127\n",
      "Black    108\n",
      "Red       71\n",
      "Name: count, dtype: int64\n"
     ]
    }
   ],
   "source": [
    "# Tip: je kan gewoon een tabel printen en daarin kijken voor het antwoord\n",
    "print(HairEyeColour[\"Hair\"].value_counts())"
   ]
  },
  {
   "cell_type": "markdown",
   "metadata": {},
   "source": [
    "## 9\n",
    "**Welk percentage van de mensen met blond haar heeft blauwe ogen?** (6 min) <br> Tip: Zie gebruik functie crosstab. Welke optie kan hiervoor gebruiken. https://pandas.pydata.org/docs/reference/api/pandas.crosstab.html"
   ]
  },
  {
   "cell_type": "code",
   "execution_count": null,
   "metadata": {},
   "outputs": [
    {
     "ename": "ValueError",
     "evalue": "values cannot be used without an aggfunc.",
     "output_type": "error",
     "traceback": [
      "\u001b[1;31m---------------------------------------------------------------------------\u001b[0m",
      "\u001b[1;31mValueError\u001b[0m                                Traceback (most recent call last)",
      "Cell \u001b[1;32mIn[19], line 3\u001b[0m\n\u001b[0;32m      1\u001b[0m \u001b[38;5;66;03m# Tip: maak gebruik van het argument normalize, en denk over welke optie je moet kiezen\u001b[39;00m\n\u001b[0;32m      2\u001b[0m \u001b[38;5;66;03m#print(HairEyeColour[[\"Hair\",\"Eye\"]].value_counts())\u001b[39;00m\n\u001b[1;32m----> 3\u001b[0m pd\u001b[38;5;241m.\u001b[39mcrosstab(HairEyeColour[\u001b[38;5;124m\"\u001b[39m\u001b[38;5;124mHair\u001b[39m\u001b[38;5;124m\"\u001b[39m],HairEyeColour[\u001b[38;5;124m\"\u001b[39m\u001b[38;5;124mEye\u001b[39m\u001b[38;5;124m\"\u001b[39m],HairEyeColour[\u001b[38;5;124m\"\u001b[39m\u001b[38;5;124mSex\u001b[39m\u001b[38;5;124m\"\u001b[39m] \u001b[38;5;241m==\u001b[39m \u001b[38;5;124m\"\u001b[39m\u001b[38;5;124mFemale\u001b[39m\u001b[38;5;124m\"\u001b[39m, normalize\u001b[38;5;241m=\u001b[39m\u001b[38;5;28;01mTrue\u001b[39;00m)\n",
      "File \u001b[1;32mc:\\Users\\jeroe\\anaconda3\\Lib\\site-packages\\pandas\\core\\reshape\\pivot.py:688\u001b[0m, in \u001b[0;36mcrosstab\u001b[1;34m(index, columns, values, rownames, colnames, aggfunc, margins, margins_name, dropna, normalize)\u001b[0m\n\u001b[0;32m    685\u001b[0m     \u001b[38;5;28;01mraise\u001b[39;00m \u001b[38;5;167;01mValueError\u001b[39;00m(\u001b[38;5;124m\"\u001b[39m\u001b[38;5;124maggfunc cannot be used without values.\u001b[39m\u001b[38;5;124m\"\u001b[39m)\n\u001b[0;32m    687\u001b[0m \u001b[38;5;28;01mif\u001b[39;00m values \u001b[38;5;129;01mis\u001b[39;00m \u001b[38;5;129;01mnot\u001b[39;00m \u001b[38;5;28;01mNone\u001b[39;00m \u001b[38;5;129;01mand\u001b[39;00m aggfunc \u001b[38;5;129;01mis\u001b[39;00m \u001b[38;5;28;01mNone\u001b[39;00m:\n\u001b[1;32m--> 688\u001b[0m     \u001b[38;5;28;01mraise\u001b[39;00m \u001b[38;5;167;01mValueError\u001b[39;00m(\u001b[38;5;124m\"\u001b[39m\u001b[38;5;124mvalues cannot be used without an aggfunc.\u001b[39m\u001b[38;5;124m\"\u001b[39m)\n\u001b[0;32m    690\u001b[0m \u001b[38;5;28;01mif\u001b[39;00m \u001b[38;5;129;01mnot\u001b[39;00m is_nested_list_like(index):\n\u001b[0;32m    691\u001b[0m     index \u001b[38;5;241m=\u001b[39m [index]\n",
      "\u001b[1;31mValueError\u001b[0m: values cannot be used without an aggfunc."
     ]
    }
   ],
   "source": [
    "# Tip: maak gebruik van het argument normalize, en denk over welke optie je moet kiezen\n",
    "#print(HairEyeColour[[\"Hair\",\"Eye\"]].value_counts())\n",
    "pd.crosstab(HairEyeColour[\"Hair\"],HairEyeColour[\"Eye\"], normalize=True)"
   ]
  },
  {
   "cell_type": "markdown",
   "metadata": {},
   "source": [
    "## 10\n",
    "**Hoeveel vrouwen hebben blond haar en blauwe ogen?** (4 min)\n"
   ]
  },
  {
   "cell_type": "code",
   "execution_count": null,
   "metadata": {},
   "outputs": [],
   "source": []
  },
  {
   "cell_type": "markdown",
   "metadata": {},
   "source": [
    "## 11\n",
    "**Voeg een kolom toe aan de dataset met de naam DarkHair. Deze kolom heeft de waarde\n",
    "“Dark” indien de haarkleur Black of Brown is en “Light” indien de haarkleur Blond of Red is.** (8 min)\n",
    "\n",
    "Tip: gebruik functie 'where()' uit numpy package of een list comprehension\n",
    "\n",
    "Introductie in conditional statements: https://datalab01.ict.hva.nl/w/gHiybjuMcxAdejQj3B7gBk"
   ]
  },
  {
   "cell_type": "code",
   "execution_count": 23,
   "metadata": {},
   "outputs": [],
   "source": [
    "darklist = np.where((HairEyeColour[\"Hair\"].isin([\"Black\", \"Brown\"])),\"Dark\",\"Light\")\n",
    "\n",
    "HairEyeColour[\"DarkHair\"] = darklist"
   ]
  },
  {
   "cell_type": "markdown",
   "metadata": {},
   "source": [
    "## 12\n",
    "**Hoeveel personen hebben licht haar?** (3 min)"
   ]
  },
  {
   "cell_type": "code",
   "execution_count": 25,
   "metadata": {},
   "outputs": [
    {
     "name": "stdout",
     "output_type": "stream",
     "text": [
      "DarkHair\n",
      "Dark     394\n",
      "Light    198\n",
      "Name: count, dtype: int64\n"
     ]
    }
   ],
   "source": [
    "print(HairEyeColour[\"DarkHair\"].value_counts())"
   ]
  },
  {
   "cell_type": "markdown",
   "metadata": {},
   "source": [
    "## 13 \n",
    "**Welk percentage van de personen heeft licht haar en blauwe ogen?** (3 min)"
   ]
  },
  {
   "cell_type": "code",
   "execution_count": 26,
   "metadata": {},
   "outputs": [
    {
     "data": {
      "text/html": [
       "<div>\n",
       "<style scoped>\n",
       "    .dataframe tbody tr th:only-of-type {\n",
       "        vertical-align: middle;\n",
       "    }\n",
       "\n",
       "    .dataframe tbody tr th {\n",
       "        vertical-align: top;\n",
       "    }\n",
       "\n",
       "    .dataframe thead th {\n",
       "        text-align: right;\n",
       "    }\n",
       "</style>\n",
       "<table border=\"1\" class=\"dataframe\">\n",
       "  <thead>\n",
       "    <tr style=\"text-align: right;\">\n",
       "      <th>Eye</th>\n",
       "      <th>Blue</th>\n",
       "      <th>Brown</th>\n",
       "      <th>Green</th>\n",
       "      <th>Hazel</th>\n",
       "    </tr>\n",
       "    <tr>\n",
       "      <th>DarkHair</th>\n",
       "      <th></th>\n",
       "      <th></th>\n",
       "      <th></th>\n",
       "      <th></th>\n",
       "    </tr>\n",
       "  </thead>\n",
       "  <tbody>\n",
       "    <tr>\n",
       "      <th>Dark</th>\n",
       "      <td>0.175676</td>\n",
       "      <td>0.315878</td>\n",
       "      <td>0.057432</td>\n",
       "      <td>0.116554</td>\n",
       "    </tr>\n",
       "    <tr>\n",
       "      <th>Light</th>\n",
       "      <td>0.187500</td>\n",
       "      <td>0.055743</td>\n",
       "      <td>0.050676</td>\n",
       "      <td>0.040541</td>\n",
       "    </tr>\n",
       "  </tbody>\n",
       "</table>\n",
       "</div>"
      ],
      "text/plain": [
       "Eye           Blue     Brown     Green     Hazel\n",
       "DarkHair                                        \n",
       "Dark      0.175676  0.315878  0.057432  0.116554\n",
       "Light     0.187500  0.055743  0.050676  0.040541"
      ]
     },
     "execution_count": 26,
     "metadata": {},
     "output_type": "execute_result"
    }
   ],
   "source": [
    "pd.crosstab(HairEyeColour[\"DarkHair\"],HairEyeColour[\"Eye\"], normalize=True)"
   ]
  }
 ],
 "metadata": {
  "kernelspec": {
   "display_name": "base",
   "language": "python",
   "name": "python3"
  },
  "language_info": {
   "codemirror_mode": {
    "name": "ipython",
    "version": 3
   },
   "file_extension": ".py",
   "mimetype": "text/x-python",
   "name": "python",
   "nbconvert_exporter": "python",
   "pygments_lexer": "ipython3",
   "version": "3.12.3"
  }
 },
 "nbformat": 4,
 "nbformat_minor": 4
}
