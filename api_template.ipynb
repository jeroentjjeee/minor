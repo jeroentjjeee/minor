{
 "cells": [
  {
   "cell_type": "code",
   "execution_count": 9,
   "id": "933ac5d3",
   "metadata": {},
   "outputs": [
    {
     "name": "stdout",
     "output_type": "stream",
     "text": [
      "   ID   Periods  Beer_1  Bread_2  Butter_3  Cheese_4  Coffee_5  Eggs_6  \\\n",
      "0   0  1800JJ00    0.01     0.12      0.09      0.16      0.40    0.01   \n",
      "1   1  1801JJ00    0.02     0.14      0.08       NaN      0.34    0.01   \n",
      "2   2  1802JJ00    0.02     0.13      0.12       NaN      0.25    0.01   \n",
      "3   3  1803JJ00    0.01     0.11      0.11       NaN      0.44    0.01   \n",
      "4   4  1804JJ00    0.02     0.10      0.10       NaN      0.47    0.01   \n",
      "\n",
      "   Margarine_7  Milk_8  PorkSteak_9  Potatoes_10  Rice_11  StewingSteak_12  \\\n",
      "0          NaN    0.03          NaN         0.01     0.19              NaN   \n",
      "1          NaN    0.03          NaN         0.01     0.27              NaN   \n",
      "2          NaN    0.03          NaN         0.01     0.19              NaN   \n",
      "3          NaN    0.03          NaN         0.01     0.20              NaN   \n",
      "4          NaN    0.03          NaN         0.01     0.17              NaN   \n",
      "\n",
      "   Sugar_13  Tea_14  \n",
      "0      0.71    0.20  \n",
      "1      0.64    0.19  \n",
      "2      0.48    0.19  \n",
      "3      0.61    0.19  \n",
      "4      0.64    0.18  \n"
     ]
    }
   ],
   "source": [
    "import requests\n",
    "import pandas as pd\n",
    "url = 'https://opendata.cbs.nl/ODataFeed/odata/80345eng/TypedDataSet'\n",
    "#url = \"https://opendata.cbs.nl/ODataFeed/odata/80346eng/TypedDataSet\"\n",
    "#url = \"https://opendata.cbs.nl/ODataFeed/odata/85546ENG/TypedDataSet\"\n",
    "\n",
    "headers = {\n",
    "    \"Accept\": \"application/json\"\n",
    "}\n",
    "\n",
    "response = requests.get(url, headers=headers)\n",
    "\n",
    "if response.status_code == 200:\n",
    "    data = response.json()\n",
    "    records = data.get('value', [])\n",
    "    \n",
    "    # Zet lijst van dicts om in DataFrame\n",
    "    df = pd.DataFrame(records)\n",
    "    \n",
    "    print(df.head())  # toon de eerste paar regels\n",
    "else:\n",
    "    print(f\"Fout bij ophalen data: {response.status_code}\")\n",
    "\n",
    "\n"
   ]
  },
  {
   "cell_type": "code",
   "execution_count": 10,
   "id": "ccd65a73",
   "metadata": {},
   "outputs": [
    {
     "name": "stdout",
     "output_type": "stream",
     "text": [
      "      ID   Periods  Beer_1  Bread_2  Butter_3  Cheese_4  Coffee_5  Eggs_6  \\\n",
      "0      0  1800JJ00    0.01     0.12      0.09      0.16      0.40    0.01   \n",
      "1      1  1801JJ00    0.02     0.14      0.08       NaN      0.34    0.01   \n",
      "2      2  1802JJ00    0.02     0.13      0.12       NaN      0.25    0.01   \n",
      "3      3  1803JJ00    0.01     0.11      0.11       NaN      0.44    0.01   \n",
      "4      4  1804JJ00    0.02     0.10      0.10       NaN      0.47    0.01   \n",
      "..   ...       ...     ...      ...       ...       ...       ...     ...   \n",
      "214  214  2014JJ00    1.49     1.20      1.33      9.24      9.34    1.84   \n",
      "215  215  2015JJ00    1.48     1.19      1.28      7.19     10.39    1.96   \n",
      "216  216  2016JJ00    1.49     1.17      1.26      6.94      9.51    2.07   \n",
      "217  217  2017JJ00    1.48     1.14      1.69     10.22      9.43    2.24   \n",
      "218  218  2018JJ00    1.48     1.16      2.04     10.98      8.73    2.47   \n",
      "\n",
      "     Margarine_7  Milk_8  PorkSteak_9  Potatoes_10  Rice_11  StewingSteak_12  \\\n",
      "0            NaN    0.03          NaN         0.01     0.19              NaN   \n",
      "1            NaN    0.03          NaN         0.01     0.27              NaN   \n",
      "2            NaN    0.03          NaN         0.01     0.19              NaN   \n",
      "3            NaN    0.03          NaN         0.01     0.20              NaN   \n",
      "4            NaN    0.03          NaN         0.01     0.17              NaN   \n",
      "..           ...     ...          ...          ...      ...              ...   \n",
      "214         0.79    0.80         6.86         0.94     2.24             8.80   \n",
      "215         0.90    0.77         7.00         1.09     2.31             9.50   \n",
      "216         0.91    0.76         7.10         1.24     2.17             9.45   \n",
      "217         0.93    0.90         7.61         1.31     2.10             9.79   \n",
      "218         0.77    0.90         7.26         1.33     2.02             9.32   \n",
      "\n",
      "     Sugar_13  Tea_14  \n",
      "0        0.71    0.20  \n",
      "1        0.64    0.19  \n",
      "2        0.48    0.19  \n",
      "3        0.61    0.19  \n",
      "4        0.64    0.18  \n",
      "..        ...     ...  \n",
      "214      0.99    1.08  \n",
      "215      0.98    1.14  \n",
      "216      0.80    1.19  \n",
      "217      0.67    1.16  \n",
      "218      0.68    1.16  \n",
      "\n",
      "[219 rows x 16 columns]\n"
     ]
    }
   ],
   "source": [
    "print(df)"
   ]
  }
 ],
 "metadata": {
  "kernelspec": {
   "display_name": "base",
   "language": "python",
   "name": "python3"
  },
  "language_info": {
   "codemirror_mode": {
    "name": "ipython",
    "version": 3
   },
   "file_extension": ".py",
   "mimetype": "text/x-python",
   "name": "python",
   "nbconvert_exporter": "python",
   "pygments_lexer": "ipython3",
   "version": "3.12.3"
  }
 },
 "nbformat": 4,
 "nbformat_minor": 5
}
